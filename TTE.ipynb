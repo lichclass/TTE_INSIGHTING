{
 "cells": [
  {
   "cell_type": "markdown",
   "id": "aa25ca34-862e-4a59-8718-98c12729ce23",
   "metadata": {},
   "source": [
    "# Target Trial Emulation: Python Implementation\n",
    "\n",
    "**Proponents:** Nash Adam Muñoz, Elijah Kahlil Andres Abangan \n",
    " \n",
    "In this implementation, we reverse engineered a segment of the ```TrialEmulation``` package from this link, https://github.com/Causal-LDA/TrialEmulation. There may be inconsistencies with the R implementation from Alan Yang's TTE (https://rpubs.com/alanyang0924/TTE) as we only have surface level understanding of R's ecosystem. Take note, some results maybe skewed but it achieves the goal of emulating a target trial using longitudinal data, or in other words, it uses observational data as if they were Randomized Control Trials. \n",
    "\n",
    "All the specifications of the ```TrialEmulation``` Python implementation can be found in this repository namely, ```pytrialemulation.py```"
   ]
  },
  {
   "cell_type": "code",
   "execution_count": 1,
   "id": "0aa5ec35-11f0-408d-817a-b7387784285f",
   "metadata": {},
   "outputs": [],
   "source": [
    "import pytrialemulation as te # The python version of TrialEmulation package\n",
    "import pandas as pd\n",
    "import os\n",
    "import numpy as np\n",
    "import matplotlib.pyplot as plt"
   ]
  },
  {
   "cell_type": "markdown",
   "id": "b8c3ee56-97d9-4fbc-ac38-d288018589da",
   "metadata": {},
   "source": [
    "# Step 1. Setup\n",
    "\n",
    "```TrialSequence()``` Is a class similar to the original package's ```trial_sequence()```. Here, we declare a ```TrialSequence``` object called ```trial_pp``` and ```trial_itt```. Moreover, we set their estimands (the target quantity we want) to the following:\n",
    "- \"PP\" or *Per-Protocol*: This will restrict only to patients who follow the treatment protocol i.e. the ones following their assigned treatment over time\n",
    "- \"ITT\" or *Intention-to-treat*: This will include all patients no matter their adherance for a treatment. "
   ]
  },
  {
   "cell_type": "code",
   "execution_count": 2,
   "id": "0f337265-a1d0-4fb8-be8c-b37c21c46359",
   "metadata": {},
   "outputs": [],
   "source": [
    "trial_pp = te.TrialSequence(estimand=\"PP\") # Per-protocol\n",
    "trial_itt = te.TrialSequence(estimand=\"ITT\") # Intention-to-treat"
   ]
  },
  {
   "cell_type": "markdown",
   "id": "b2ffaec2-974c-4fc6-8d52-483625faf514",
   "metadata": {},
   "source": [
    "In Alan Yang's tutorial, he added this following step of creating directories for later inspection."
   ]
  },
  {
   "cell_type": "code",
   "execution_count": 3,
   "id": "fa647759-0dd1-4be4-a6a2-fc22f4eafb87",
   "metadata": {},
   "outputs": [],
   "source": [
    "trial_pp_dir = os.path.join(os.getcwd(), \"trial_pp\")\n",
    "os.makedirs(trial_pp_dir, exist_ok=True)\n",
    "\n",
    "trial_itt_dir = os.path.join(os.getcwd(), \"trial_itt\")\n",
    "os.makedirs(trial_itt_dir, exist_ok=True)"
   ]
  },
  {
   "cell_type": "markdown",
   "id": "df80a55d-fb40-438d-ae37-355f66661d85",
   "metadata": {},
   "source": [
    "# Step 2. Data Preparation\n",
    "\n",
    "In the original, the dataset was already provided by the ```TrialEmulation``` package. Here, we used a .csv file from the original dataset for us to use it in python."
   ]
  },
  {
   "cell_type": "code",
   "execution_count": 4,
   "id": "07e1733a-37d0-4f42-92b8-ad235fa89e0f",
   "metadata": {},
   "outputs": [
    {
     "data": {
      "text/html": [
       "<div>\n",
       "<style scoped>\n",
       "    .dataframe tbody tr th:only-of-type {\n",
       "        vertical-align: middle;\n",
       "    }\n",
       "\n",
       "    .dataframe tbody tr th {\n",
       "        vertical-align: top;\n",
       "    }\n",
       "\n",
       "    .dataframe thead th {\n",
       "        text-align: right;\n",
       "    }\n",
       "</style>\n",
       "<table border=\"1\" class=\"dataframe\">\n",
       "  <thead>\n",
       "    <tr style=\"text-align: right;\">\n",
       "      <th></th>\n",
       "      <th>id</th>\n",
       "      <th>period</th>\n",
       "      <th>treatment</th>\n",
       "      <th>x1</th>\n",
       "      <th>x2</th>\n",
       "      <th>x3</th>\n",
       "      <th>x4</th>\n",
       "      <th>age</th>\n",
       "      <th>age_s</th>\n",
       "      <th>outcome</th>\n",
       "      <th>censored</th>\n",
       "      <th>eligible</th>\n",
       "    </tr>\n",
       "  </thead>\n",
       "  <tbody>\n",
       "    <tr>\n",
       "      <th>0</th>\n",
       "      <td>1</td>\n",
       "      <td>0</td>\n",
       "      <td>1</td>\n",
       "      <td>1</td>\n",
       "      <td>1.146148</td>\n",
       "      <td>0</td>\n",
       "      <td>0.734203</td>\n",
       "      <td>36</td>\n",
       "      <td>0.083333</td>\n",
       "      <td>0</td>\n",
       "      <td>0</td>\n",
       "      <td>1</td>\n",
       "    </tr>\n",
       "    <tr>\n",
       "      <th>1</th>\n",
       "      <td>1</td>\n",
       "      <td>1</td>\n",
       "      <td>1</td>\n",
       "      <td>1</td>\n",
       "      <td>0.002200</td>\n",
       "      <td>0</td>\n",
       "      <td>0.734203</td>\n",
       "      <td>37</td>\n",
       "      <td>0.166667</td>\n",
       "      <td>0</td>\n",
       "      <td>0</td>\n",
       "      <td>0</td>\n",
       "    </tr>\n",
       "    <tr>\n",
       "      <th>2</th>\n",
       "      <td>1</td>\n",
       "      <td>2</td>\n",
       "      <td>1</td>\n",
       "      <td>0</td>\n",
       "      <td>-0.481762</td>\n",
       "      <td>0</td>\n",
       "      <td>0.734203</td>\n",
       "      <td>38</td>\n",
       "      <td>0.250000</td>\n",
       "      <td>0</td>\n",
       "      <td>0</td>\n",
       "      <td>0</td>\n",
       "    </tr>\n",
       "    <tr>\n",
       "      <th>3</th>\n",
       "      <td>1</td>\n",
       "      <td>3</td>\n",
       "      <td>1</td>\n",
       "      <td>0</td>\n",
       "      <td>0.007872</td>\n",
       "      <td>0</td>\n",
       "      <td>0.734203</td>\n",
       "      <td>39</td>\n",
       "      <td>0.333333</td>\n",
       "      <td>0</td>\n",
       "      <td>0</td>\n",
       "      <td>0</td>\n",
       "    </tr>\n",
       "    <tr>\n",
       "      <th>4</th>\n",
       "      <td>1</td>\n",
       "      <td>4</td>\n",
       "      <td>1</td>\n",
       "      <td>1</td>\n",
       "      <td>0.216054</td>\n",
       "      <td>0</td>\n",
       "      <td>0.734203</td>\n",
       "      <td>40</td>\n",
       "      <td>0.416667</td>\n",
       "      <td>0</td>\n",
       "      <td>0</td>\n",
       "      <td>0</td>\n",
       "    </tr>\n",
       "  </tbody>\n",
       "</table>\n",
       "</div>"
      ],
      "text/plain": [
       "   id  period  treatment  x1        x2  x3        x4  age     age_s  outcome  \\\n",
       "0   1       0          1   1  1.146148   0  0.734203   36  0.083333        0   \n",
       "1   1       1          1   1  0.002200   0  0.734203   37  0.166667        0   \n",
       "2   1       2          1   0 -0.481762   0  0.734203   38  0.250000        0   \n",
       "3   1       3          1   0  0.007872   0  0.734203   39  0.333333        0   \n",
       "4   1       4          1   1  0.216054   0  0.734203   40  0.416667        0   \n",
       "\n",
       "   censored  eligible  \n",
       "0         0         1  \n",
       "1         0         0  \n",
       "2         0         0  \n",
       "3         0         0  \n",
       "4         0         0  "
      ]
     },
     "execution_count": 4,
     "metadata": {},
     "output_type": "execute_result"
    }
   ],
   "source": [
    "data_censored = pd.read_csv(\"data_censored.csv\")\n",
    "data_censored.head()"
   ]
  },
  {
   "cell_type": "markdown",
   "id": "117a14aa-fb10-4925-818b-6721db48dec2",
   "metadata": {},
   "source": [
    "Then, we will use the ```.set_data``` method to store our data in the object and specify which columns contain which values."
   ]
  },
  {
   "cell_type": "code",
   "execution_count": 5,
   "id": "b54bd23a-a059-4db6-be7d-97a04855ec0c",
   "metadata": {},
   "outputs": [],
   "source": [
    "# Per-protocol\n",
    "trial_pp = trial_pp.set_data(\n",
    "    data=data_censored,\n",
    "    Id=\"id\",\n",
    "    period=\"period\",\n",
    "    treatment=\"treatment\",\n",
    "    outcome=\"outcome\",\n",
    "    eligible=\"eligible\",\n",
    ")\n",
    "\n",
    "# Intention-to-treat\n",
    "trial_itt = trial_itt.set_data(\n",
    "    data=data_censored,\n",
    "    Id=\"id\",\n",
    "    period=\"period\",\n",
    "    treatment=\"treatment\",\n",
    "    outcome=\"outcome\",\n",
    "    eligible=\"eligible\",\n",
    ")"
   ]
  },
  {
   "cell_type": "code",
   "execution_count": 6,
   "id": "e51e5968-33a0-4eca-8ccd-54959b675011",
   "metadata": {},
   "outputs": [
    {
     "data": {
      "text/plain": [
       "## Trial Sequence Object\n",
       "## Estimand: Intention-to-treat\n",
       "\n",
       "## Data:\n",
       "  - Showing 4 of 725 observations from 89 patients\n",
       " id  period  treatment  x1        x2  x3       x4  age    age_s  outcome  censored  eligible  first  time_of_event  am_1  switch  regime_start  time_on_regime  cumA  eligible0  eligible1\n",
       "  1       0          1   1  1.146148   0 0.734203   36 0.083333        0         0         1      1           9999   0.0       0           0.0             0.0   1.0          1          0\n",
       "  1       1          1   1  0.002200   0 0.734203   37 0.166667        0         0         0      0           9999   1.0       0           0.0             1.0   2.0          0          1\n",
       " 99       6          1   1 -0.033762   1 0.575268   71 3.000000        0         0         0      0           9999   1.0       0           5.0             1.0   4.0          0          1\n",
       " 99       7          0   0 -1.340497   1 0.575268   72 3.083333        1         0         0      0              7   1.0       1           7.0             0.0   4.0          0          1"
      ]
     },
     "execution_count": 6,
     "metadata": {},
     "output_type": "execute_result"
    }
   ],
   "source": [
    "trial_itt"
   ]
  },
  {
   "cell_type": "code",
   "execution_count": 7,
   "id": "3bbabf74-222f-4092-9d27-03dca9941ed7",
   "metadata": {},
   "outputs": [
    {
     "data": {
      "text/plain": [
       "## Trial Sequence Object\n",
       "## Estimand: Per-protocol\n",
       "\n",
       "## Data:\n",
       "  - Showing 4 of 321 observations from 89 patients\n",
       " id  period  treatment  x1        x2  x3       x4  age    age_s  outcome  censored  eligible  first  time_of_event  am_1  switch  regime_start  time_on_regime  cumA  started0  started1  stop0  stop1  eligible0_sw  eligible1_sw  delete  eligible0  eligible1\n",
       "  1       0          1   1  1.146148   0 0.734203   36 0.083333        0         0         1      1           9999   0.0       0           0.0             0.0   1.0         0         1      0      0             0             1   False          1          0\n",
       "  1       1          1   1  0.002200   0 0.734203   37 0.166667        0         0         0      0           9999   1.0       0           0.0             1.0   2.0         0         1      0      0             0             1   False          0          1\n",
       " 99       1          1   0 -1.106481   1 0.575268   66 2.583333        0         0         0      0           9999   1.0       0           0.0             1.0   2.0         0         1      0      0             0             1   False          0          1\n",
       " 99       2          0   0  1.650478   1 0.575268   67 2.666667        0         0         0      0           9999   1.0       1           2.0             0.0   2.0         0         1      0      1             0             1   False          0          1"
      ]
     },
     "execution_count": 7,
     "metadata": {},
     "output_type": "execute_result"
    }
   ],
   "source": [
    "trial_pp"
   ]
  },
  {
   "cell_type": "markdown",
   "id": "8d587526-2131-4da6-90e6-5028808f4322",
   "metadata": {},
   "source": [
    "# 3. Weight models and censoring\n",
    "\n",
    "One of the main problems with clinical trials is that patients don't always follow their assigned treatment. Some people would change to a different treatment, while others stop completely.\n",
    "\n",
    "If we just ignored them, our results could be misleading. The treatment may appear more effective than it is if, for instance, only the healthiest participants remained in the experiment.\n",
    "\n",
    "To fix this, we use weighting models to ensure that the data remains fair. Consider these as \"corrections\" that give patients who continued the treatment will be given greater weight."
   ]
  },
  {
   "cell_type": "markdown",
   "id": "541978c5-5ac6-4899-be93-162da780957d",
   "metadata": {},
   "source": [
    "### Step 3.1 Censoring due to treatment switching\n",
    "\n",
    "In many longitudinal studies, patients switch treatments over time. Since we want to emulate a scenario where our patients adhere to their assigned treatments, we need to adjust for this deviations. This is achieved by using IPCW that account for treatment switching.\n",
    "\n",
    "Specifically, we estimate the probability that a patient would remain on their initially assigned treatment at each time point using ```set_switch_weight_model()```."
   ]
  },
  {
   "cell_type": "code",
   "execution_count": 8,
   "id": "dd746182-d5cc-40cf-9956-d5a27087698d",
   "metadata": {},
   "outputs": [
    {
     "name": "stdout",
     "output_type": "stream",
     "text": [
      "##  - Numerator formula: treatment ~ age\n",
      "##  - Denominator formula: treatment ~ age + x1 + x3\n",
      "##  - Model fitter type: StatsGLMLogit\n",
      "##  - Weight models not fitted. Use calculate_weights()\n"
     ]
    }
   ],
   "source": [
    "trial_pp = trial_pp.set_switch_weight_model(\n",
    "    numerator=\"~ age\",\n",
    "    denominator=\"~ age + x1 + x3\",\n",
    "    model_fitter=te.StatsGLMLogit(save_path=os.path.join(trial_pp_dir, \"switch_models\"))\n",
    ")\n",
    "trial_pp.switch_weights_print()"
   ]
  },
  {
   "cell_type": "markdown",
   "id": "8cccd3e8-dfac-49ae-b60f-22f24ce105d0",
   "metadata": {},
   "source": [
    "### Step 3.2 Other informative censoring\n",
    "\n",
    "We do the same thing here for people who leave the study early, making sure that they will not skew the outcome. We do this by using the method ```.set_censor_weight_model()```."
   ]
  },
  {
   "cell_type": "code",
   "execution_count": 9,
   "id": "62a42dc0-96f8-4035-bdc8-a9d9c35c5f41",
   "metadata": {},
   "outputs": [
    {
     "name": "stdout",
     "output_type": "stream",
     "text": [
      "##  - Numerator formula: I(1 - censored) ~ x2\n",
      "##  - Denominator formula: I(1 - censored) ~ x2 + x1\n",
      "##  - Neither numerator nor denominator is pooled.\n",
      "##  - Model fitter type: StatsGLMLogit\n",
      "##  - Weight models not fitted. Use calculate_weights()\n"
     ]
    }
   ],
   "source": [
    "trial_pp = trial_pp.set_censor_weight_model(\n",
    "    censor_event=\"censored\",\n",
    "    numerator=\"~ x2\",\n",
    "    denominator=\"~ x2 + x1\",\n",
    "    pool_models=\"none\",\n",
    "    model_fitter=te.StatsGLMLogit(save_path=os.path.join(trial_pp_dir, \"switch_models\")),\n",
    ")\n",
    "trial_pp.censor_weights_print()"
   ]
  },
  {
   "cell_type": "code",
   "execution_count": 10,
   "id": "9c0c51b7-6ce3-4ddb-9243-7444347bb9fc",
   "metadata": {},
   "outputs": [
    {
     "name": "stdout",
     "output_type": "stream",
     "text": [
      "##  - Numerator formula: I(1 - censored) ~ x2\n",
      "##  - Denominator formula: I(1 - censored) ~ x2 + x1\n",
      "##  - Numerator model is pooled across treatment arms. Denominator model is not pooled.\n",
      "##  - Model fitter type: StatsGLMLogit\n",
      "##  - Weight models not fitted. Use calculate_weights()\n"
     ]
    }
   ],
   "source": [
    "trial_itt = trial_itt.set_censor_weight_model(\n",
    "    censor_event=\"censored\",\n",
    "    numerator=\"~ x2\",\n",
    "    denominator=\"~ x2 + x1\",\n",
    "    pool_models=\"numerator\",\n",
    "    model_fitter=te.StatsGLMLogit(save_path=os.path.join(trial_itt_dir, \"switch_models\")),\n",
    ")\n",
    "trial_itt.censor_weights_print()"
   ]
  },
  {
   "cell_type": "markdown",
   "id": "fab84ccd-f1d8-4c29-b215-3ac05815c8ee",
   "metadata": {},
   "source": [
    "# Step 4. Calculate Weights\n",
    "Now that we’ve set our weight models, we now need to actually apply them to our dataset. This will make sure that the remaining data accurately represents what would have happened if nobody had dropped out or switched treatments. We do this by using the method ```.calculate_weights()``` in order to calculate their respective weights."
   ]
  },
  {
   "cell_type": "code",
   "execution_count": 11,
   "id": "289ee9b4-f543-43bf-82e9-356e6faae330",
   "metadata": {},
   "outputs": [
    {
     "data": {
      "text/plain": [
       "## Trial Sequence Object\n",
       "## Estimand: Per-protocol\n",
       "\n",
       "## Data:\n",
       "  - Showing 4 of 321 observations from 89 patients\n",
       " id  period  treatment  x1        x2  x3       x4  age    age_s  outcome  censored  eligible  first  time_of_event  am_1  switch  regime_start  time_on_regime  cumA  started0  started1  stop0  stop1  eligible0_sw  eligible1_sw  delete  eligible0  eligible1       wt      p_n      p_d      wtS     pC_n     pC_d      wtC\n",
       "  1       0          1   1  1.146148   0 0.734203   36 0.083333        0         0         1      1           9999   0.0       0           0.0             0.0   1.0         0         1      0      0             0             1   False          1          0 0.699439 0.470628 0.590882 0.796484 0.685581 0.780704 0.878157\n",
       "  1       1          1   1  0.002200   0 0.734203   37 0.166667        0         0         0      0           9999   1.0       0           0.0             1.0   2.0         0         1      0      0             0             1   False          0          1 0.895145 0.717422 0.773567 0.927421 0.939131 0.972994 0.965198\n",
       " 99       1          1   0 -1.106481   1 0.575268   66 2.583333        0         0         0      0           9999   1.0       0           0.0             1.0   2.0         0         1      0      0             0             1   False          0          1 1.012234 0.562148 0.560233 1.003418 0.946641 0.938396 1.008786\n",
       " 99       2          0   0  1.650478   1 0.575268   67 2.666667        0         0         0      0           9999   1.0       1           2.0             0.0   2.0         0         1      0      1             0             1   False          0          1 1.015706 0.556353 0.554530 0.995907 0.926125 0.908072 1.019881\n",
       "  - Numerator formula: treatment ~ age\n",
       "  - Denominator formula: treatment ~ age + x1 + x3\n",
       "  - Model fitter type: StatsGLMLogit\n",
       "  - Switch weights computed.\n",
       "  - Numerator formula: I(1 - censored) ~ x2\n",
       "  - Denominator formula: I(1 - censored) ~ x2 + x1\n",
       "  - Model fitter type: StatsGLMLogit\n",
       "  - Censor weights computed."
      ]
     },
     "execution_count": 11,
     "metadata": {},
     "output_type": "execute_result"
    }
   ],
   "source": [
    "trial_pp.calculate_weights()"
   ]
  },
  {
   "cell_type": "code",
   "execution_count": 12,
   "id": "0400d51a-1e7c-4b87-89b1-8122105db23f",
   "metadata": {},
   "outputs": [
    {
     "data": {
      "text/plain": [
       "## Trial Sequence Object\n",
       "## Estimand: Intention-to-treat\n",
       "\n",
       "## Data:\n",
       "  - Showing 4 of 725 observations from 89 patients\n",
       " id  period  treatment  x1        x2  x3       x4  age    age_s  outcome  censored  eligible  first  time_of_event  am_1  switch  regime_start  time_on_regime  cumA  eligible0  eligible1       wt     pC_n     pC_d      wtC\n",
       "  1       0          1   1  1.146148   0 0.734203   36 0.083333        0         0         1      1           9999   0.0       0           0.0             0.0   1.0          1          0 0.983546 0.873678 0.888293 0.983546\n",
       "  1       1          1   1  0.002200   0 0.734203   37 0.166667        0         0         0      0           9999   1.0       0           0.0             1.0   2.0          0          1 0.942925 0.920349 0.976057 0.942925\n",
       " 99       6          1   1 -0.033762   1 0.575268   71 3.000000        0         0         0      0           9999   1.0       0           5.0             1.0   4.0          0          1 0.944099 0.921524 0.976089 0.944099\n",
       " 99       7          0   0 -1.340497   1 0.575268   72 3.083333        1         0         0      0              7   1.0       1           7.0             0.0   4.0          0          1 1.009209 0.954761 0.946049 1.009209\n",
       "  - Numerator formula: I(1 - censored) ~ x2\n",
       "  - Denominator formula: I(1 - censored) ~ x2 + x1\n",
       "  - Model fitter type: StatsGLMLogit\n",
       "  - Censor weights computed."
      ]
     },
     "execution_count": 12,
     "metadata": {},
     "output_type": "execute_result"
    }
   ],
   "source": [
    "trial_itt.calculate_weights()"
   ]
  },
  {
   "cell_type": "markdown",
   "id": "e88559ce-a03f-460a-a19d-dac40d2b65d3",
   "metadata": {},
   "source": [
    "# Step 5. Specify Outcome Model\n",
    "\n",
    "This step is all about setting up our outcome model or the thing that will actually tell us if the treatment actually works. For example, if we’re testing a cancer drug, we need to define success. Are we looking at survival rates? Tumor shrinkage? Symptom relief? In here we are now checking how treatment affects the outcome over time.\n",
    "\n",
    "The function ```set_outcome_model()``` defines the treatment terms, this includes adjustment terms for confounding factors which ensures that time effects (like follow-up time) are accounted for. With the final formula looking like this:"
   ]
  },
  {
   "cell_type": "code",
   "execution_count": 13,
   "id": "e44afa12-8db6-47e3-aedc-e48ea3fca286",
   "metadata": {},
   "outputs": [],
   "source": [
    "trial_pp = te.set_outcome_model(trial_pp)\n",
    "trial_itt = te.set_outcome_model(\n",
    "    trial_itt, \n",
    "    adjustment_terms=\"~ x2\",\n",
    ")"
   ]
  },
  {
   "cell_type": "markdown",
   "id": "86722150-3384-42b6-b90a-83a6e7020eb0",
   "metadata": {},
   "source": [
    "# Step 6. Expand Trials\n",
    "As how all treatment goes, a patient’s health will change over time, so we need to track their journey across multiple time periods in order to track how the treatment affects patients over time.\n",
    "\n",
    "This process is like taking checkpoints of how each patient are in different points in time, rather than just looking at their final result. This allows us to see if the treatment's effect changes over time."
   ]
  },
  {
   "cell_type": "code",
   "execution_count": 14,
   "id": "e3b71512-f726-47f6-b71a-c78548a0671c",
   "metadata": {},
   "outputs": [],
   "source": [
    "trial_pp = te.set_expansion_options(\n",
    "    trial_pp,\n",
    "    output=te.save_to_datatable(),\n",
    "    chunk_size=500,\n",
    ")\n",
    "\n",
    "trial_itt = te.set_expansion_options(\n",
    "    trial_itt,\n",
    "    output=te.save_to_datatable(),\n",
    "    chunk_size=500,\n",
    ")"
   ]
  },
  {
   "cell_type": "markdown",
   "id": "00cf04c0-a2e5-475c-ba55-39307d9658e7",
   "metadata": {},
   "source": [
    "## Step 6.1 Create Sequence of Trials Data\n",
    "By using this function:\n",
    "\n",
    "```python\n",
    "trial_pp = set_expansion_options(trial_pp, output=save_to_datatable(), chunk_size=500)\n",
    "trial_pp = expand_trials(trial_pp)\n",
    "```\n",
    "\n",
    "The data will be expanded into multiple time periods with each patient’s treatment status being tracked over time. This expanded dataset allows us to simulate how real trials would play out over months or years."
   ]
  },
  {
   "cell_type": "code",
   "execution_count": 15,
   "id": "c2b7a815-cd59-4165-b47c-53706cfcc183",
   "metadata": {},
   "outputs": [],
   "source": [
    "trial_pp = te.expand_trials(trial_pp)\n",
    "trial_itt = te.expand_trials(trial_itt)"
   ]
  },
  {
   "cell_type": "code",
   "execution_count": 16,
   "id": "2f0ac09f-1a47-4d75-9185-474733f03ad4",
   "metadata": {},
   "outputs": [
    {
     "data": {
      "text/plain": [
       "Sequence of Trials Data:\n",
       "  - Chunk size: 500\n",
       "  - Censor at switch: True\n",
       "  - First period: 0 | Last period: inf\n",
       "  - Datastore contains 1 chunk(s)\n",
       "\n",
       "A TE Datastore Datatable object\n",
       "N: 500 observations\n",
       " outcome   weight  id        x2  treatment  trial_period  assigned_treatment  followup_time\n",
       "       0 1.000000   1  1.146148          1             0                   1              0\n",
       "       0 0.895145   1  0.002200          1             0                   1              1\n",
       "       0 1.000000  99 -0.346378          1             0                   1              0\n",
       "       0 1.012234  99 -1.106481          1             0                   1              1"
      ]
     },
     "execution_count": 16,
     "metadata": {},
     "output_type": "execute_result"
    }
   ],
   "source": [
    "trial_pp.expansion"
   ]
  },
  {
   "cell_type": "code",
   "execution_count": 17,
   "id": "6123795c-0f58-4ea6-962a-2582db299dc8",
   "metadata": {},
   "outputs": [
    {
     "data": {
      "text/plain": [
       "Sequence of Trials Data:\n",
       "  - Chunk size: 500\n",
       "  - Censor at switch: False\n",
       "  - First period: 0 | Last period: inf\n",
       "  - Datastore contains 1 chunk(s)\n",
       "\n",
       "A TE Datastore Datatable object\n",
       "N: 1558 observations\n",
       " outcome   weight   id        x2  treatment  trial_period  assigned_treatment  followup_time\n",
       "     0.0 1.000000  1.0  1.146148        1.0             0                 1.0            0.0\n",
       "     0.0 0.942925  1.0  0.002200        1.0             0                 1.0            1.0\n",
       "     0.0 0.891724 99.0 -0.033762        1.0             0                 1.0            6.0\n",
       "     1.0 0.899936 99.0 -1.340497        0.0             0                 0.0            7.0"
      ]
     },
     "execution_count": 17,
     "metadata": {},
     "output_type": "execute_result"
    }
   ],
   "source": [
    "trial_itt.expansion"
   ]
  },
  {
   "cell_type": "markdown",
   "id": "1c717131-9a0b-4498-8def-70ec78ec6608",
   "metadata": {},
   "source": [
    "# Step 7. Load or Sample from Expanded Data\n",
    "\n",
    "If we were given a dataset consisting of millions-upon-millions of rows, analyzing it all would take up too much of our time. Instead, we just take a random sample in our dataset that would still represent our full population, and use that as our sample.\n",
    "The function below will load the expanded data into memory and randomly selects patients using ```p_control=0.5```, meaning 50% of control patients are sampled to keep the dataset manageable."
   ]
  },
  {
   "cell_type": "code",
   "execution_count": 18,
   "id": "16cea66e-17fe-4c3c-ad4d-69ae10f89dfe",
   "metadata": {},
   "outputs": [],
   "source": [
    "trial_itt = te.load_expanded_data(trial_itt, seed = 1000, p_control = 0.5)"
   ]
  },
  {
   "cell_type": "markdown",
   "id": "1a7d1bfb-3094-45ed-a546-39fddf7a1dbe",
   "metadata": {},
   "source": [
    "# Step 8. Fit Marginal Structural Model\n",
    "\n",
    "Now that we have a refined dataset, we can finally measure how well the treatment works. In here is where we actually run our  statistics to measure how effective our treatment is.\n",
    "\n",
    "We use the weighted data from earlier steps to make sure that the comparison is fair. If some patients had extreme weights (which could skew our results), then we limit those so they don’t distort our conclusions.\n",
    "\n",
    "```fit_msm()``` will fit our data to a Marginal Structural Model (MSM) using a logistic regression approach. We use the MSM model because this model removes bias from patients who dropped out or switch treatments, this ensures that there is a fair comparison between treatment and control groups. This model will also prevent giving us misleading results that could arise from simple regression methods."
   ]
  },
  {
   "cell_type": "code",
   "execution_count": 19,
   "id": "870cbd1e-3f0f-4e3f-8c24-4db745e311fe",
   "metadata": {},
   "outputs": [],
   "source": [
    "trial_itt = te.fit_msm(\n",
    "    trial_itt, \n",
    "    weight_cols=['weight', 'sample_weight'], \n",
    "    modify_weights=lambda w: np.minimum(w, np.quantile(w, 0.95))\n",
    ")"
   ]
  },
  {
   "cell_type": "code",
   "execution_count": 20,
   "id": "de706aa4-7778-44c0-8dfe-30a457cfff55",
   "metadata": {},
   "outputs": [
    {
     "name": "stdout",
     "output_type": "stream",
     "text": [
      "Outcome model formula:\n",
      " - outcome ~ assigned_treatment + x2 + followup_time + I(followup_time**2) + trial_period + I(trial_period**2)\n",
      "\n",
      "Model Summary:\n",
      " - Intercept            Estimate:    -3.8034 Std.Error:     0.7641 Statistic:    -4.9779 p-value:     0.0000 Conf.Low:    -5.3010 Conf.High:    -2.3059\n",
      " - assigned_treatment   Estimate:    -1.0772 Std.Error:     0.6740 Statistic:    -1.5982 p-value:     0.1100 Conf.Low:    -2.3982 Conf.High:     0.2438\n",
      " - x2                   Estimate:     0.2344 Std.Error:     0.2861 Statistic:     0.8192 p-value:     0.4127 Conf.Low:    -0.3264 Conf.High:     0.7952\n",
      " - followup_time        Estimate:     0.3129 Std.Error:     0.2102 Statistic:     1.4883 p-value:     0.1367 Conf.Low:    -0.0992 Conf.High:     0.7249\n",
      " - I(followup_time ** 2) Estimate:    -0.0199 Std.Error:     0.0131 Statistic:    -1.5206 p-value:     0.1284 Conf.Low:    -0.0456 Conf.High:     0.0058\n",
      " - trial_period         Estimate:     9.1260 Std.Error:  5929.1368 Statistic:     0.0015 p-value:     0.9988 Conf.Low: -11611.9822 Conf.High: 11630.2342\n",
      " - I(trial_period ** 2) Estimate:    -9.8161 Std.Error:  5929.1367 Statistic:    -0.0017 p-value:     0.9987 Conf.Low: -11630.9241 Conf.High: 11611.2919\n",
      "\n",
      "Model Fit Metrics:\n",
      " - nobs: 801\n",
      " - df_model: 6\n",
      " - df_resid: 830.660152996239\n",
      " - aic: nan\n",
      " - deviance: 120.44067364068941\n",
      " - logLik: nan\n"
     ]
    }
   ],
   "source": [
    "te.print_msm_summary(trial_itt)"
   ]
  },
  {
   "cell_type": "markdown",
   "id": "7a80aa5e-1bac-4ae2-b215-0d377aef36ce",
   "metadata": {},
   "source": [
    "# Step 9. Inference\n",
    "After everything is finished, we use our model to predict patient outcomes over time and generate a plot. This will let us visually compare the treatment group vs. the control group. Here we can see whether the treatment made a difference and when it started to take effect.\n",
    "\n",
    "As we can see from the graph, the treatment is taking into effect as the negative slope indicates that when calculating the difference between control and treatment, ```control - treatment```, the survival difference tells us that there is a substantial benefit of treatment over control. In other words, this tells us that our group of simulated patients benefits from our assigned treatment."
   ]
  },
  {
   "cell_type": "code",
   "execution_count": 21,
   "id": "f81251b1-5b40-4729-b477-60e56ec8edaa",
   "metadata": {},
   "outputs": [
    {
     "data": {
      "image/png": "[encoded data removed]",
      "text/plain": [
       "<Figure size 1200x600 with 1 Axes>"
      ]
     },
     "metadata": {},
     "output_type": "display_data"
    }
   ],
   "source": [
    "preds = te.predict_outcome(\n",
    "    trial_seq=trial_itt,\n",
    "    newdata=trial_itt.outcome_data.loc[trial_itt.outcome_data[\"trial_period\"] == 1].copy(),\n",
    "    predict_times=list(range(0, 11)),\n",
    "    type_pred=\"survival\", \n",
    ")\n",
    "\n",
    "# Plotting the difference curve\n",
    "plt.figure(figsize=(12,6))\n",
    "plt.plot(preds[\"difference\"][\"followup_time\"], preds[\"difference\"][\"difference\"], label=\"Survival Difference\")\n",
    "plt.plot(\n",
    "    preds[\"difference\"][\"followup_time\"],\n",
    "    preds[\"difference\"][\"2.5%\"],\n",
    "    label=\"Lower 95% CI\",\n",
    "    color=\"red\",\n",
    "    linestyle=\"--\"\n",
    ")\n",
    "plt.plot(\n",
    "    preds[\"difference\"][\"followup_time\"],\n",
    "    preds[\"difference\"][\"97.5%\"],\n",
    "    label=\"Upper 95% CI\",\n",
    "    color=\"red\",\n",
    "    linestyle=\"--\"\n",
    ")\n",
    "plt.xlabel(\"Follow up\")\n",
    "plt.ylabel(\"Survival Difference\")\n",
    "plt.legend()\n",
    "plt.show()"
   ]
  }
 ],
 "metadata": {
  "kernelspec": {
   "display_name": "Python 3 (ipykernel)",
   "language": "python",
   "name": "python3"
  },
  "language_info": {
   "codemirror_mode": {
    "name": "ipython",
    "version": 3
   },
   "file_extension": ".py",
   "mimetype": "text/x-python",
   "name": "python",
   "nbconvert_exporter": "python",
   "pygments_lexer": "ipython3",
   "version": "3.9.21"
  }
 },
 "nbformat": 4,
 "nbformat_minor": 5
}
